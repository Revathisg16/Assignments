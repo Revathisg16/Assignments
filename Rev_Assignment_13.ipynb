{
  "metadata": {
    "language_info": {
      "codemirror_mode": {
        "name": "python",
        "version": 3
      },
      "file_extension": ".py",
      "mimetype": "text/x-python",
      "name": "python",
      "nbconvert_exporter": "python",
      "pygments_lexer": "ipython3",
      "version": "3.8"
    },
    "kernelspec": {
      "name": "python",
      "display_name": "Pyolite",
      "language": "python"
    }
  },
  "nbformat_minor": 4,
  "nbformat": 4,
  "cells": [
    {
      "cell_type": "markdown",
      "source": "#Exercise 2 - Create a markdown cell with the title of the notebook.\n# My Jupyter Notebook on Skills Network Labs for assignment 13",
      "metadata": {}
    },
    {
      "cell_type": "markdown",
      "source": "#Exercise 3 - Create a markdown cell for an introduction\n\nHi this is **REVATHI** , I am interested in Data Science because I would love to contribute towards affordable and quality healthcare in the future",
      "metadata": {}
    },
    {
      "cell_type": "markdown",
      "source": "#Exercise 4 - Create a markdown cell to list data science languages\n\n* Python\n* R\n* SQL\n* Scala",
      "metadata": {}
    },
    {
      "cell_type": "markdown",
      "source": "#Exercise 5: list of data science libraries\n| Number | Data Science Libraries |\n| -----  | ---------------------- |\n| 1 | TensorFlow |\n| 2 | NumPy |\n| 3 | Pandas |\n| 4 | Matplotlib |\n| 5 | Keras |",
      "metadata": {}
    },
    {
      "cell_type": "markdown",
      "source": "#Exercise 6:  markdown cell with a table of Data Science tools\n| Number | Data Science tools |\n| ---- | ---- |\n| 1 | PyTorch |\n| 2 | Microsoft Azure |\n| 3 | RStudio | \n| 4 | Apache Hadoop |\n| 5 | TensorFlow |",
      "metadata": {}
    },
    {
      "cell_type": "markdown",
      "source": "#Excrcise 7: markdown cell introducing arithmetic expression examples\n### The below should print 'addition & multiplication'",
      "metadata": {}
    },
    {
      "cell_type": "code",
      "source": "#Excercise 8: code cell to multiply and add numbers\na=3\nb=4\nc=a+b\nprint(\"addition of a and b is =\", str(c))\nprint(\"Multiplication of a and b is =\", str(a*b))\n",
      "metadata": {
        "trusted": true
      },
      "execution_count": 2,
      "outputs": [
        {
          "name": "stdout",
          "text": "addition of a and b is = 7\nMultiplication of a and b is = 12\n",
          "output_type": "stream"
        }
      ]
    },
    {
      "cell_type": "code",
      "source": "#Exercise 9 - Create a code cell to convert minutes to hours\n\nminutes = 70\nhours = minutes/60\nbal_min = minutes % 60\nprint (\"Given minutes : \", minutes)\nprint (\"The same in hours : \", int(hours), \" Hours: \", int(bal_min), \" Minutes\" )\n\n\n",
      "metadata": {
        "trusted": true
      },
      "execution_count": 7,
      "outputs": [
        {
          "name": "stdout",
          "text": "Given minutes :  70\nThe same in hours :  1  Hours:  10  Minutes\n",
          "output_type": "stream"
        }
      ]
    },
    {
      "cell_type": "markdown",
      "source": "#Exercise 10 -Insert a markdown cell to list Objectives\n\n- Create a markdown cell with the title of the notebook\n- Create a markdown cell with the title of the notebook. \n- Create a markdown cell for an introduction. \n- Create a markdown cell to list data science languages. \n- Create a markdown cell to list data science libraries.\n- Create a markdown cell with a table of Data Science tools. \n- Create a markdown cell introducing arithmetic expression examples. \n- Create a code cell to multiply and add numbers.\n- Create a code cell to convert minutes to hours.",
      "metadata": {}
    },
    {
      "cell_type": "markdown",
      "source": "#Exercise 11 - Create a markdown cell to indicate the Author’s name\n\nThis excrcise is created by **Revathi Sulthanpat Govindappa**",
      "metadata": {}
    }
  ]
}