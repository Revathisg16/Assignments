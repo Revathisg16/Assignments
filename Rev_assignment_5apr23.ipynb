{
  "metadata": {
    "language_info": {
      "codemirror_mode": {
        "name": "python",
        "version": 3
      },
      "file_extension": ".py",
      "mimetype": "text/x-python",
      "name": "python",
      "nbconvert_exporter": "python",
      "pygments_lexer": "ipython3",
      "version": "3.8"
    },
    "kernelspec": {
      "name": "python",
      "display_name": "Pyolite",
      "language": "python"
    }
  },
  "nbformat_minor": 4,
  "nbformat": 4,
  "cells": [
    {
      "cell_type": "markdown",
      "source": "# My Jupyter Notebook on IBM Watson studio ",
      "metadata": {}
    },
    {
      "cell_type": "markdown",
      "source": "**REVATHI**",
      "metadata": {}
    },
    {
      "cell_type": "markdown",
      "source": "*I am interested in Data Science because I would love to contribute towards affordable and quality healthcare in the future*",
      "metadata": {}
    },
    {
      "cell_type": "markdown",
      "source": "### The below should print 'adding numbers'",
      "metadata": {}
    },
    {
      "cell_type": "code",
      "source": "a=1\nb=1\nc=a+b\nprint(\"addition of a and b is =\", str(c))\n",
      "metadata": {
        "trusted": true
      },
      "execution_count": 3,
      "outputs": [
        {
          "name": "stdout",
          "text": "addition of a and b is = 2\n",
          "output_type": "stream"
        }
      ]
    },
    {
      "cell_type": "markdown",
      "source": "#Cell 6\n\n#bulleting:\n* bullet list 1\n* bullet list 2\n* bullet list 3\n\n#Syntax highlight:\n```css\na=1\nb=1\nc=a+b\nprint(\"addition of a and b is =\", str(c))\n```\n\n#Hyperlinking:\n\n[Hyperlink to google](www.google.com)",
      "metadata": {}
    },
    {
      "cell_type": "code",
      "source": "",
      "metadata": {},
      "execution_count": null,
      "outputs": []
    }
  ]
}